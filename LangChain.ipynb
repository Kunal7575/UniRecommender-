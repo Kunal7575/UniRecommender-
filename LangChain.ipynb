{
 "cells": [
  {
   "cell_type": "code",
   "execution_count": 10,
   "id": "a9aed19b-56a3-4c9b-89cc-43d02553ab33",
   "metadata": {},
   "outputs": [
    {
     "name": "stdout",
     "output_type": "stream",
     "text": [
      "Requirement already satisfied: google-generativeai in c:\\users\\kunal\\appdata\\local\\programs\\python\\python313\\lib\\site-packages (0.8.5)\n",
      "Requirement already satisfied: google-ai-generativelanguage==0.6.15 in c:\\users\\kunal\\appdata\\local\\programs\\python\\python313\\lib\\site-packages (from google-generativeai) (0.6.15)\n",
      "Requirement already satisfied: google-api-core in c:\\users\\kunal\\appdata\\local\\programs\\python\\python313\\lib\\site-packages (from google-generativeai) (2.25.1)\n",
      "Requirement already satisfied: google-api-python-client in c:\\users\\kunal\\appdata\\local\\programs\\python\\python313\\lib\\site-packages (from google-generativeai) (2.172.0)\n",
      "Requirement already satisfied: google-auth>=2.15.0 in c:\\users\\kunal\\appdata\\local\\programs\\python\\python313\\lib\\site-packages (from google-generativeai) (2.40.3)\n",
      "Requirement already satisfied: protobuf in c:\\users\\kunal\\appdata\\local\\programs\\python\\python313\\lib\\site-packages (from google-generativeai) (5.29.5)\n",
      "Requirement already satisfied: pydantic in c:\\users\\kunal\\appdata\\local\\programs\\python\\python313\\lib\\site-packages (from google-generativeai) (2.10.3)\n",
      "Requirement already satisfied: tqdm in c:\\users\\kunal\\appdata\\local\\programs\\python\\python313\\lib\\site-packages (from google-generativeai) (4.67.1)\n",
      "Requirement already satisfied: typing-extensions in c:\\users\\kunal\\appdata\\local\\programs\\python\\python313\\lib\\site-packages (from google-generativeai) (4.12.2)\n",
      "Requirement already satisfied: proto-plus<2.0.0dev,>=1.22.3 in c:\\users\\kunal\\appdata\\local\\programs\\python\\python313\\lib\\site-packages (from google-ai-generativelanguage==0.6.15->google-generativeai) (1.26.1)\n",
      "Requirement already satisfied: googleapis-common-protos<2.0.0,>=1.56.2 in c:\\users\\kunal\\appdata\\local\\programs\\python\\python313\\lib\\site-packages (from google-api-core->google-generativeai) (1.70.0)\n",
      "Requirement already satisfied: requests<3.0.0,>=2.18.0 in c:\\users\\kunal\\appdata\\local\\programs\\python\\python313\\lib\\site-packages (from google-api-core->google-generativeai) (2.32.4)\n",
      "Requirement already satisfied: grpcio<2.0.0,>=1.33.2 in c:\\users\\kunal\\appdata\\local\\programs\\python\\python313\\lib\\site-packages (from google-api-core[grpc]!=2.0.*,!=2.1.*,!=2.10.*,!=2.2.*,!=2.3.*,!=2.4.*,!=2.5.*,!=2.6.*,!=2.7.*,!=2.8.*,!=2.9.*,<3.0.0dev,>=1.34.1->google-ai-generativelanguage==0.6.15->google-generativeai) (1.73.0)\n",
      "Requirement already satisfied: grpcio-status<2.0.0,>=1.33.2 in c:\\users\\kunal\\appdata\\local\\programs\\python\\python313\\lib\\site-packages (from google-api-core[grpc]!=2.0.*,!=2.1.*,!=2.10.*,!=2.2.*,!=2.3.*,!=2.4.*,!=2.5.*,!=2.6.*,!=2.7.*,!=2.8.*,!=2.9.*,<3.0.0dev,>=1.34.1->google-ai-generativelanguage==0.6.15->google-generativeai) (1.71.0)\n",
      "Requirement already satisfied: cachetools<6.0,>=2.0.0 in c:\\users\\kunal\\appdata\\local\\programs\\python\\python313\\lib\\site-packages (from google-auth>=2.15.0->google-generativeai) (5.5.2)\n",
      "Requirement already satisfied: pyasn1-modules>=0.2.1 in c:\\users\\kunal\\appdata\\local\\programs\\python\\python313\\lib\\site-packages (from google-auth>=2.15.0->google-generativeai) (0.4.2)\n",
      "Requirement already satisfied: rsa<5,>=3.1.4 in c:\\users\\kunal\\appdata\\local\\programs\\python\\python313\\lib\\site-packages (from google-auth>=2.15.0->google-generativeai) (4.9.1)\n",
      "Requirement already satisfied: charset_normalizer<4,>=2 in c:\\users\\kunal\\appdata\\local\\programs\\python\\python313\\lib\\site-packages (from requests<3.0.0,>=2.18.0->google-api-core->google-generativeai) (3.4.2)\n",
      "Requirement already satisfied: idna<4,>=2.5 in c:\\users\\kunal\\appdata\\local\\programs\\python\\python313\\lib\\site-packages (from requests<3.0.0,>=2.18.0->google-api-core->google-generativeai) (3.10)\n",
      "Requirement already satisfied: urllib3<3,>=1.21.1 in c:\\users\\kunal\\appdata\\local\\programs\\python\\python313\\lib\\site-packages (from requests<3.0.0,>=2.18.0->google-api-core->google-generativeai) (2.4.0)\n",
      "Requirement already satisfied: certifi>=2017.4.17 in c:\\users\\kunal\\appdata\\local\\programs\\python\\python313\\lib\\site-packages (from requests<3.0.0,>=2.18.0->google-api-core->google-generativeai) (2025.6.15)\n",
      "Requirement already satisfied: pyasn1>=0.1.3 in c:\\users\\kunal\\appdata\\local\\programs\\python\\python313\\lib\\site-packages (from rsa<5,>=3.1.4->google-auth>=2.15.0->google-generativeai) (0.6.1)\n",
      "Requirement already satisfied: httplib2<1.0.0,>=0.19.0 in c:\\users\\kunal\\appdata\\local\\programs\\python\\python313\\lib\\site-packages (from google-api-python-client->google-generativeai) (0.22.0)\n",
      "Requirement already satisfied: google-auth-httplib2<1.0.0,>=0.2.0 in c:\\users\\kunal\\appdata\\local\\programs\\python\\python313\\lib\\site-packages (from google-api-python-client->google-generativeai) (0.2.0)\n",
      "Requirement already satisfied: uritemplate<5,>=3.0.1 in c:\\users\\kunal\\appdata\\local\\programs\\python\\python313\\lib\\site-packages (from google-api-python-client->google-generativeai) (4.2.0)\n",
      "Requirement already satisfied: pyparsing!=3.0.0,!=3.0.1,!=3.0.2,!=3.0.3,<4,>=2.4.2 in c:\\users\\kunal\\appdata\\local\\programs\\python\\python313\\lib\\site-packages (from httplib2<1.0.0,>=0.19.0->google-api-python-client->google-generativeai) (3.2.3)\n",
      "Requirement already satisfied: annotated-types>=0.6.0 in c:\\users\\kunal\\appdata\\local\\programs\\python\\python313\\lib\\site-packages (from pydantic->google-generativeai) (0.7.0)\n",
      "Requirement already satisfied: pydantic-core==2.27.1 in c:\\users\\kunal\\appdata\\local\\programs\\python\\python313\\lib\\site-packages (from pydantic->google-generativeai) (2.27.1)\n",
      "Requirement already satisfied: colorama in c:\\users\\kunal\\appdata\\local\\programs\\python\\python313\\lib\\site-packages (from tqdm->google-generativeai) (0.4.6)\n",
      "Note: you may need to restart the kernel to use updated packages.\n"
     ]
    }
   ],
   "source": [
    "pip install google-generativeai\n"
   ]
  },
  {
   "cell_type": "code",
   "execution_count": 11,
   "id": "39c48091-0230-4c8e-8f77-20b2cef899e2",
   "metadata": {},
   "outputs": [
    {
     "name": "stdout",
     "output_type": "stream",
     "text": [
      "Requirement already satisfied: ipywidgets in c:\\users\\kunal\\appdata\\local\\programs\\python\\python313\\lib\\site-packages (8.1.7)\n",
      "Requirement already satisfied: comm>=0.1.3 in c:\\users\\kunal\\appdata\\local\\programs\\python\\python313\\lib\\site-packages (from ipywidgets) (0.2.2)\n",
      "Requirement already satisfied: ipython>=6.1.0 in c:\\users\\kunal\\appdata\\local\\programs\\python\\python313\\lib\\site-packages (from ipywidgets) (9.3.0)\n",
      "Requirement already satisfied: traitlets>=4.3.1 in c:\\users\\kunal\\appdata\\local\\programs\\python\\python313\\lib\\site-packages (from ipywidgets) (5.14.3)\n",
      "Requirement already satisfied: widgetsnbextension~=4.0.14 in c:\\users\\kunal\\appdata\\local\\programs\\python\\python313\\lib\\site-packages (from ipywidgets) (4.0.14)\n",
      "Requirement already satisfied: jupyterlab_widgets~=3.0.15 in c:\\users\\kunal\\appdata\\local\\programs\\python\\python313\\lib\\site-packages (from ipywidgets) (3.0.15)\n",
      "Requirement already satisfied: colorama in c:\\users\\kunal\\appdata\\local\\programs\\python\\python313\\lib\\site-packages (from ipython>=6.1.0->ipywidgets) (0.4.6)\n",
      "Requirement already satisfied: decorator in c:\\users\\kunal\\appdata\\local\\programs\\python\\python313\\lib\\site-packages (from ipython>=6.1.0->ipywidgets) (5.2.1)\n",
      "Requirement already satisfied: ipython-pygments-lexers in c:\\users\\kunal\\appdata\\local\\programs\\python\\python313\\lib\\site-packages (from ipython>=6.1.0->ipywidgets) (1.1.1)\n",
      "Requirement already satisfied: jedi>=0.16 in c:\\users\\kunal\\appdata\\local\\programs\\python\\python313\\lib\\site-packages (from ipython>=6.1.0->ipywidgets) (0.19.2)\n",
      "Requirement already satisfied: matplotlib-inline in c:\\users\\kunal\\appdata\\local\\programs\\python\\python313\\lib\\site-packages (from ipython>=6.1.0->ipywidgets) (0.1.7)\n",
      "Requirement already satisfied: prompt_toolkit<3.1.0,>=3.0.41 in c:\\users\\kunal\\appdata\\local\\programs\\python\\python313\\lib\\site-packages (from ipython>=6.1.0->ipywidgets) (3.0.51)\n",
      "Requirement already satisfied: pygments>=2.4.0 in c:\\users\\kunal\\appdata\\local\\programs\\python\\python313\\lib\\site-packages (from ipython>=6.1.0->ipywidgets) (2.19.1)\n",
      "Requirement already satisfied: stack_data in c:\\users\\kunal\\appdata\\local\\programs\\python\\python313\\lib\\site-packages (from ipython>=6.1.0->ipywidgets) (0.6.3)\n",
      "Requirement already satisfied: wcwidth in c:\\users\\kunal\\appdata\\local\\programs\\python\\python313\\lib\\site-packages (from prompt_toolkit<3.1.0,>=3.0.41->ipython>=6.1.0->ipywidgets) (0.2.13)\n",
      "Requirement already satisfied: parso<0.9.0,>=0.8.4 in c:\\users\\kunal\\appdata\\local\\programs\\python\\python313\\lib\\site-packages (from jedi>=0.16->ipython>=6.1.0->ipywidgets) (0.8.4)\n",
      "Requirement already satisfied: executing>=1.2.0 in c:\\users\\kunal\\appdata\\local\\programs\\python\\python313\\lib\\site-packages (from stack_data->ipython>=6.1.0->ipywidgets) (2.2.0)\n",
      "Requirement already satisfied: asttokens>=2.1.0 in c:\\users\\kunal\\appdata\\local\\programs\\python\\python313\\lib\\site-packages (from stack_data->ipython>=6.1.0->ipywidgets) (3.0.0)\n",
      "Requirement already satisfied: pure-eval in c:\\users\\kunal\\appdata\\local\\programs\\python\\python313\\lib\\site-packages (from stack_data->ipython>=6.1.0->ipywidgets) (0.2.3)\n"
     ]
    }
   ],
   "source": [
    "!pip install ipywidgets --upgrade\n"
   ]
  },
  {
   "cell_type": "code",
   "execution_count": 12,
   "id": "3a8be9f0-1f77-42b2-9749-31ee5a4d52bb",
   "metadata": {},
   "outputs": [
    {
     "name": "stdout",
     "output_type": "stream",
     "text": [
      "Requirement already satisfied: langchain in c:\\users\\kunal\\appdata\\local\\programs\\python\\python313\\lib\\site-packages (0.3.27)\n",
      "Requirement already satisfied: langchain-google-genai in c:\\users\\kunal\\appdata\\local\\programs\\python\\python313\\lib\\site-packages (2.0.10)\n",
      "Requirement already satisfied: google-generativeai in c:\\users\\kunal\\appdata\\local\\programs\\python\\python313\\lib\\site-packages (0.8.5)\n",
      "Requirement already satisfied: langchain-core<1.0.0,>=0.3.72 in c:\\users\\kunal\\appdata\\local\\programs\\python\\python313\\lib\\site-packages (from langchain) (0.3.72)\n",
      "Requirement already satisfied: langchain-text-splitters<1.0.0,>=0.3.9 in c:\\users\\kunal\\appdata\\local\\programs\\python\\python313\\lib\\site-packages (from langchain) (0.3.9)\n",
      "Requirement already satisfied: langsmith>=0.1.17 in c:\\users\\kunal\\appdata\\local\\programs\\python\\python313\\lib\\site-packages (from langchain) (0.4.8)\n",
      "Requirement already satisfied: pydantic<3.0.0,>=2.7.4 in c:\\users\\kunal\\appdata\\local\\programs\\python\\python313\\lib\\site-packages (from langchain) (2.10.3)\n",
      "Requirement already satisfied: SQLAlchemy<3,>=1.4 in c:\\users\\kunal\\appdata\\local\\programs\\python\\python313\\lib\\site-packages (from langchain) (2.0.41)\n",
      "Requirement already satisfied: requests<3,>=2 in c:\\users\\kunal\\appdata\\local\\programs\\python\\python313\\lib\\site-packages (from langchain) (2.32.4)\n",
      "Requirement already satisfied: PyYAML>=5.3 in c:\\users\\kunal\\appdata\\local\\programs\\python\\python313\\lib\\site-packages (from langchain) (6.0.2)\n",
      "Requirement already satisfied: tenacity!=8.4.0,<10.0.0,>=8.1.0 in c:\\users\\kunal\\appdata\\local\\programs\\python\\python313\\lib\\site-packages (from langchain-core<1.0.0,>=0.3.72->langchain) (9.1.2)\n",
      "Requirement already satisfied: jsonpatch<2.0,>=1.33 in c:\\users\\kunal\\appdata\\local\\programs\\python\\python313\\lib\\site-packages (from langchain-core<1.0.0,>=0.3.72->langchain) (1.33)\n",
      "Requirement already satisfied: typing-extensions>=4.7 in c:\\users\\kunal\\appdata\\local\\programs\\python\\python313\\lib\\site-packages (from langchain-core<1.0.0,>=0.3.72->langchain) (4.12.2)\n",
      "Requirement already satisfied: packaging>=23.2 in c:\\users\\kunal\\appdata\\local\\programs\\python\\python313\\lib\\site-packages (from langchain-core<1.0.0,>=0.3.72->langchain) (25.0)\n",
      "Requirement already satisfied: jsonpointer>=1.9 in c:\\users\\kunal\\appdata\\local\\programs\\python\\python313\\lib\\site-packages (from jsonpatch<2.0,>=1.33->langchain-core<1.0.0,>=0.3.72->langchain) (3.0.0)\n",
      "Requirement already satisfied: annotated-types>=0.6.0 in c:\\users\\kunal\\appdata\\local\\programs\\python\\python313\\lib\\site-packages (from pydantic<3.0.0,>=2.7.4->langchain) (0.7.0)\n",
      "Requirement already satisfied: pydantic-core==2.27.1 in c:\\users\\kunal\\appdata\\local\\programs\\python\\python313\\lib\\site-packages (from pydantic<3.0.0,>=2.7.4->langchain) (2.27.1)\n",
      "Requirement already satisfied: charset_normalizer<4,>=2 in c:\\users\\kunal\\appdata\\local\\programs\\python\\python313\\lib\\site-packages (from requests<3,>=2->langchain) (3.4.2)\n",
      "Requirement already satisfied: idna<4,>=2.5 in c:\\users\\kunal\\appdata\\local\\programs\\python\\python313\\lib\\site-packages (from requests<3,>=2->langchain) (3.10)\n",
      "Requirement already satisfied: urllib3<3,>=1.21.1 in c:\\users\\kunal\\appdata\\local\\programs\\python\\python313\\lib\\site-packages (from requests<3,>=2->langchain) (2.4.0)\n",
      "Requirement already satisfied: certifi>=2017.4.17 in c:\\users\\kunal\\appdata\\local\\programs\\python\\python313\\lib\\site-packages (from requests<3,>=2->langchain) (2025.6.15)\n",
      "Requirement already satisfied: greenlet>=1 in c:\\users\\kunal\\appdata\\local\\programs\\python\\python313\\lib\\site-packages (from SQLAlchemy<3,>=1.4->langchain) (3.2.3)\n",
      "Requirement already satisfied: filetype<2.0.0,>=1.2.0 in c:\\users\\kunal\\appdata\\local\\programs\\python\\python313\\lib\\site-packages (from langchain-google-genai) (1.2.0)\n",
      "Requirement already satisfied: google-ai-generativelanguage==0.6.15 in c:\\users\\kunal\\appdata\\local\\programs\\python\\python313\\lib\\site-packages (from google-generativeai) (0.6.15)\n",
      "Requirement already satisfied: google-api-core in c:\\users\\kunal\\appdata\\local\\programs\\python\\python313\\lib\\site-packages (from google-generativeai) (2.25.1)\n",
      "Requirement already satisfied: google-api-python-client in c:\\users\\kunal\\appdata\\local\\programs\\python\\python313\\lib\\site-packages (from google-generativeai) (2.172.0)\n",
      "Requirement already satisfied: google-auth>=2.15.0 in c:\\users\\kunal\\appdata\\local\\programs\\python\\python313\\lib\\site-packages (from google-generativeai) (2.40.3)\n",
      "Requirement already satisfied: protobuf in c:\\users\\kunal\\appdata\\local\\programs\\python\\python313\\lib\\site-packages (from google-generativeai) (5.29.5)\n",
      "Requirement already satisfied: tqdm in c:\\users\\kunal\\appdata\\local\\programs\\python\\python313\\lib\\site-packages (from google-generativeai) (4.67.1)\n",
      "Requirement already satisfied: proto-plus<2.0.0dev,>=1.22.3 in c:\\users\\kunal\\appdata\\local\\programs\\python\\python313\\lib\\site-packages (from google-ai-generativelanguage==0.6.15->google-generativeai) (1.26.1)\n",
      "Requirement already satisfied: googleapis-common-protos<2.0.0,>=1.56.2 in c:\\users\\kunal\\appdata\\local\\programs\\python\\python313\\lib\\site-packages (from google-api-core->google-generativeai) (1.70.0)\n",
      "Requirement already satisfied: grpcio<2.0.0,>=1.33.2 in c:\\users\\kunal\\appdata\\local\\programs\\python\\python313\\lib\\site-packages (from google-api-core[grpc]!=2.0.*,!=2.1.*,!=2.10.*,!=2.2.*,!=2.3.*,!=2.4.*,!=2.5.*,!=2.6.*,!=2.7.*,!=2.8.*,!=2.9.*,<3.0.0dev,>=1.34.1->google-ai-generativelanguage==0.6.15->google-generativeai) (1.73.0)\n",
      "Requirement already satisfied: grpcio-status<2.0.0,>=1.33.2 in c:\\users\\kunal\\appdata\\local\\programs\\python\\python313\\lib\\site-packages (from google-api-core[grpc]!=2.0.*,!=2.1.*,!=2.10.*,!=2.2.*,!=2.3.*,!=2.4.*,!=2.5.*,!=2.6.*,!=2.7.*,!=2.8.*,!=2.9.*,<3.0.0dev,>=1.34.1->google-ai-generativelanguage==0.6.15->google-generativeai) (1.71.0)\n",
      "Requirement already satisfied: cachetools<6.0,>=2.0.0 in c:\\users\\kunal\\appdata\\local\\programs\\python\\python313\\lib\\site-packages (from google-auth>=2.15.0->google-generativeai) (5.5.2)\n",
      "Requirement already satisfied: pyasn1-modules>=0.2.1 in c:\\users\\kunal\\appdata\\local\\programs\\python\\python313\\lib\\site-packages (from google-auth>=2.15.0->google-generativeai) (0.4.2)\n",
      "Requirement already satisfied: rsa<5,>=3.1.4 in c:\\users\\kunal\\appdata\\local\\programs\\python\\python313\\lib\\site-packages (from google-auth>=2.15.0->google-generativeai) (4.9.1)\n",
      "Requirement already satisfied: pyasn1>=0.1.3 in c:\\users\\kunal\\appdata\\local\\programs\\python\\python313\\lib\\site-packages (from rsa<5,>=3.1.4->google-auth>=2.15.0->google-generativeai) (0.6.1)\n",
      "Requirement already satisfied: httpx<1,>=0.23.0 in c:\\users\\kunal\\appdata\\local\\programs\\python\\python313\\lib\\site-packages (from langsmith>=0.1.17->langchain) (0.28.1)\n",
      "Requirement already satisfied: orjson<4.0.0,>=3.9.14 in c:\\users\\kunal\\appdata\\local\\programs\\python\\python313\\lib\\site-packages (from langsmith>=0.1.17->langchain) (3.11.0)\n",
      "Requirement already satisfied: requests-toolbelt<2.0.0,>=1.0.0 in c:\\users\\kunal\\appdata\\local\\programs\\python\\python313\\lib\\site-packages (from langsmith>=0.1.17->langchain) (1.0.0)\n",
      "Requirement already satisfied: zstandard<0.24.0,>=0.23.0 in c:\\users\\kunal\\appdata\\local\\programs\\python\\python313\\lib\\site-packages (from langsmith>=0.1.17->langchain) (0.23.0)\n",
      "Requirement already satisfied: anyio in c:\\users\\kunal\\appdata\\local\\programs\\python\\python313\\lib\\site-packages (from httpx<1,>=0.23.0->langsmith>=0.1.17->langchain) (4.7.0)\n",
      "Requirement already satisfied: httpcore==1.* in c:\\users\\kunal\\appdata\\local\\programs\\python\\python313\\lib\\site-packages (from httpx<1,>=0.23.0->langsmith>=0.1.17->langchain) (1.0.9)\n",
      "Requirement already satisfied: h11>=0.16 in c:\\users\\kunal\\appdata\\local\\programs\\python\\python313\\lib\\site-packages (from httpcore==1.*->httpx<1,>=0.23.0->langsmith>=0.1.17->langchain) (0.16.0)\n",
      "Requirement already satisfied: sniffio>=1.1 in c:\\users\\kunal\\appdata\\local\\programs\\python\\python313\\lib\\site-packages (from anyio->httpx<1,>=0.23.0->langsmith>=0.1.17->langchain) (1.3.1)\n",
      "Requirement already satisfied: httplib2<1.0.0,>=0.19.0 in c:\\users\\kunal\\appdata\\local\\programs\\python\\python313\\lib\\site-packages (from google-api-python-client->google-generativeai) (0.22.0)\n",
      "Requirement already satisfied: google-auth-httplib2<1.0.0,>=0.2.0 in c:\\users\\kunal\\appdata\\local\\programs\\python\\python313\\lib\\site-packages (from google-api-python-client->google-generativeai) (0.2.0)\n",
      "Requirement already satisfied: uritemplate<5,>=3.0.1 in c:\\users\\kunal\\appdata\\local\\programs\\python\\python313\\lib\\site-packages (from google-api-python-client->google-generativeai) (4.2.0)\n",
      "Requirement already satisfied: pyparsing!=3.0.0,!=3.0.1,!=3.0.2,!=3.0.3,<4,>=2.4.2 in c:\\users\\kunal\\appdata\\local\\programs\\python\\python313\\lib\\site-packages (from httplib2<1.0.0,>=0.19.0->google-api-python-client->google-generativeai) (3.2.3)\n",
      "Requirement already satisfied: colorama in c:\\users\\kunal\\appdata\\local\\programs\\python\\python313\\lib\\site-packages (from tqdm->google-generativeai) (0.4.6)\n",
      "Note: you may need to restart the kernel to use updated packages.\n"
     ]
    }
   ],
   "source": [
    "pip install langchain langchain-google-genai google-generativeai"
   ]
  },
  {
   "cell_type": "code",
   "execution_count": 13,
   "id": "0001088b-5fea-4f85-b693-a4afadf5b147",
   "metadata": {},
   "outputs": [
    {
     "name": "stdout",
     "output_type": "stream",
     "text": [
      "Requirement already satisfied: numexpr in c:\\users\\kunal\\appdata\\local\\programs\\python\\python313\\lib\\site-packages (2.11.0)\n",
      "Requirement already satisfied: numpy>=1.23.0 in c:\\users\\kunal\\appdata\\local\\programs\\python\\python313\\lib\\site-packages (from numexpr) (2.3.0)\n",
      "Note: you may need to restart the kernel to use updated packages.\n"
     ]
    }
   ],
   "source": [
    "pip install numexpr"
   ]
  },
  {
   "cell_type": "code",
   "execution_count": 14,
   "id": "75d4b629-ed64-4984-88ac-1fdfadaadc02",
   "metadata": {},
   "outputs": [],
   "source": [
    "import os\n",
    "import google.generativeai as genai\n",
    "from secret_key import GOOGLE_API_KEY"
   ]
  },
  {
   "cell_type": "code",
   "execution_count": 15,
   "id": "f6dbcc8d-41b6-472d-9e8d-4b7397fa5476",
   "metadata": {},
   "outputs": [],
   "source": [
    "from langchain_google_genai import ChatGoogleGenerativeAI\n",
    "\n",
    "# Wrap the Gemini model so LangChain understands it\n",
    "llm = ChatGoogleGenerativeAI(\n",
    "    model=\"gemini-1.5-flash\",\n",
    "    google_api_key=GOOGLE_API_KEY,\n",
    "    temperature=0.7\n",
    ")\n",
    "\n"
   ]
  },
  {
   "cell_type": "code",
   "execution_count": 16,
   "id": "569778a4-16d2-440a-85e4-c2f73face0a0",
   "metadata": {},
   "outputs": [
    {
     "data": {
      "text/plain": [
       "'Suggest the top universities in Quebec'"
      ]
     },
     "execution_count": 16,
     "metadata": {},
     "output_type": "execute_result"
    }
   ],
   "source": [
    "# Create prompt template\n",
    "from langchain.prompts import PromptTemplate\n",
    "\n",
    "prompt_template_name = PromptTemplate(\n",
    "    input_variables=['province'],\n",
    "    template=\"Suggest the top universities in {province}\"\n",
    ")\n",
    "prompt_template_name.format(province=\"Quebec\")\n"
   ]
  },
  {
   "cell_type": "code",
   "execution_count": 17,
   "id": "b963778a-ff3f-41b2-826b-4b178f72cae3",
   "metadata": {},
   "outputs": [
    {
     "name": "stderr",
     "output_type": "stream",
     "text": [
      "C:\\Users\\kunal\\AppData\\Local\\Temp\\ipykernel_17520\\537616463.py:3: LangChainDeprecationWarning: The class `LLMChain` was deprecated in LangChain 0.1.17 and will be removed in 1.0. Use :meth:`~RunnableSequence, e.g., `prompt | llm`` instead.\n",
      "  chain = LLMChain(llm=llm, prompt=prompt_template_name)\n"
     ]
    },
    {
     "name": "stdout",
     "output_type": "stream",
     "text": [
      "Alberta boasts some excellent universities.  The top two, consistently ranked highly in Canada and internationally, are:\n",
      "\n",
      "1. **University of Alberta (U of A):** Located in Edmonton, it's the largest university in the province and a comprehensive institution with a strong research focus across many disciplines.  It's particularly well-regarded for its medical school, engineering programs, and business school.\n",
      "\n",
      "2. **University of Calgary (U of C):** Situated in Calgary, the U of C is another leading research university with strengths in energy, health sciences, and business.  It's known for its innovative approach to teaching and research.\n",
      "\n",
      "\n",
      "While these are generally considered the top two,  other universities in Alberta offer excellent programs and deserve consideration depending on specific academic interests:\n",
      "\n",
      "* **University of Lethbridge:** A smaller, more comprehensive university with a strong focus on undergraduate education and a beautiful campus.  It excels in certain niche areas.\n",
      "\n",
      "* **Mount Royal University:** A primarily undergraduate institution in Calgary, focusing on teaching and student experience. It's a great option for students seeking a more intimate learning environment.\n",
      "\n",
      "* **Athabasca University:**  A distance education university, offering flexible learning options for students across the country and internationally.  It's not comparable to the others in terms of campus experience but is a strong choice for those seeking online learning.\n",
      "\n",
      "\n",
      "The \"best\" university for you will depend on your individual needs and academic goals.  Consider factors like program offerings, research opportunities, campus culture, location, and tuition fees when making your decision.\n"
     ]
    }
   ],
   "source": [
    "from langchain.chains import LLMChain\n",
    "\n",
    "chain = LLMChain(llm=llm, prompt=prompt_template_name)\n",
    "response = chain.run({\"province\": \"Alberta\"})\n",
    "print(response)"
   ]
  },
  {
   "cell_type": "code",
   "execution_count": 18,
   "id": "46bdc0aa-91f5-482e-a01a-35759b2638f8",
   "metadata": {},
   "outputs": [],
   "source": [
    "from langchain.prompts import PromptTemplate\n",
    "prompt_template_name = PromptTemplate(\n",
    "    input_variables=['province'],\n",
    "    template=\"Suggest the top universities in {province}?\"\n",
    ")\n",
    "\n",
    "# Build LangChain LLMChain\n",
    "from langchain.chains import LLMChain\n",
    "\n",
    "name_chain =LLMChain(llm=llm, prompt=prompt_template_name)\n",
    "\n",
    "prompt_template_items = PromptTemplate(\n",
    "    input_variables = ['University'],\n",
    "    template=\"\"\"Suggest some majors for {University}. Return it as a comma seperated list\"\"\"\n",
    ")\n",
    "\n",
    "food_items_chain = LLMChain(llm=llm, prompt=prompt_template_items)"
   ]
  },
  {
   "cell_type": "code",
   "execution_count": 19,
   "id": "75ac6a45-cdc3-41ee-8bd0-240d3ae9072c",
   "metadata": {},
   "outputs": [
    {
     "name": "stdout",
     "output_type": "stream",
     "text": [
      "Medicine, Law, Engineering, Health Sciences, Business, Computer Science, Mathematics, Social Sciences, Humanities, Agriculture, Veterinary Medicine, Environmental Science, Psychology, Environmental Studies\n"
     ]
    }
   ],
   "source": [
    "from langchain.chains import SimpleSequentialChain\n",
    "chain = SimpleSequentialChain(chains = [name_chain, food_items_chain])\n",
    "\n",
    "content = chain.run(\"Ontario\")\n",
    "print(content)"
   ]
  },
  {
   "cell_type": "code",
   "execution_count": 20,
   "id": "89bebdb5-1d88-4498-8c42-0f655570909d",
   "metadata": {},
   "outputs": [],
   "source": [
    "prompt_template_name = PromptTemplate(\n",
    "    input_variables=['province'],\n",
    "    template=\"Suggest the top universities in {province}?\"\n",
    ")\n",
    "\n",
    "name_chain =LLMChain(llm=llm, prompt=prompt_template_name, output_key=\"University\")\n",
    "\n",
    "prompt_template_name = PromptTemplate(\n",
    "    input_variables=['University'],\n",
    "    template=\"Suggest the top universities in {University}?\"\n",
    ")\n",
    "\n",
    "name_chain =LLMChain(llm=llm, prompt=prompt_template_name, output_key=\"major\")\n"
   ]
  },
  {
   "cell_type": "code",
   "execution_count": 21,
   "id": "5eb9f8f4-fd3c-4d7a-bb4b-f207b4d2ca2f",
   "metadata": {},
   "outputs": [],
   "source": [
    "from langchain.chains import LLMChain, SequentialChain\n",
    "from langchain.prompts import PromptTemplate\n",
    "\n",
    "# Step 1: Province → Major\n",
    "prompt_template_major = PromptTemplate(\n",
    "    input_variables=['province'],\n",
    "    template=\"Suggest a trending computer-related major in {province}.\"\n",
    ")\n",
    "name_chain = LLMChain(llm=llm, prompt=prompt_template_major, output_key=\"major\")  # <-- this fixes it\n"
   ]
  },
  {
   "cell_type": "code",
   "execution_count": 22,
   "id": "dae3a59e-0d9b-4e53-8ea5-ff4379591b8e",
   "metadata": {},
   "outputs": [],
   "source": [
    "\n",
    "# Step 2: Major → Universities\n",
    "prompt_template_universities = PromptTemplate(\n",
    "    input_variables=['major'],\n",
    "    template=\"List top universities in Canada that offer {major}. Return as a comma-separated list.\"\n",
    ")\n",
    "food_items_chain = LLMChain(llm=llm, prompt=prompt_template_universities)\n",
    "\n"
   ]
  },
  {
   "cell_type": "code",
   "execution_count": 23,
   "id": "414268f7-60e9-4094-8fc3-942591b05318",
   "metadata": {},
   "outputs": [
    {
     "name": "stdout",
     "output_type": "stream",
     "text": [
      "\n",
      "\n",
      "\u001b[1m> Entering new SequentialChain chain...\u001b[0m\n",
      "\n",
      "\u001b[1m> Finished chain.\u001b[0m\n",
      "University of Toronto, University of Waterloo, University of British Columbia, McGill University, McMaster University, University of Alberta, University of Calgary, Western University, Queen's University, Carleton University\n"
     ]
    }
   ],
   "source": [
    "chain = SequentialChain(\n",
    "    chains=[name_chain, food_items_chain],\n",
    "    input_variables=[\"province\"],\n",
    "    output_variables=[\"text\"],  # remove \"major\" here\n",
    "    verbose=True\n",
    ")\n",
    "result = chain.run({\"province\": \"Ontario\"})\n",
    "print(result)\n"
   ]
  },
  {
   "cell_type": "code",
   "execution_count": 24,
   "id": "ca821b22-efbc-42e0-9a85-b974b8a5194e",
   "metadata": {},
   "outputs": [
    {
     "name": "stdout",
     "output_type": "stream",
     "text": [
      "Elon Musk was born on June 28, 1971.  Therefore, in 2025, he is 54 years old.\n"
     ]
    }
   ],
   "source": [
    "from secret_key import GOOGLE_API_KEY\n",
    "\n",
    "llm = ChatGoogleGenerativeAI(\n",
    "    model=\"gemini-1.5-flash\",\n",
    "    google_api_key=GOOGLE_API_KEY,\n",
    "    temperature=0.7\n",
    ")\n",
    "\n",
    "response = llm.invoke(\"When was Elon Musk born? What is his age right now in 2025?\")\n",
    "print(response.content)\n"
   ]
  },
  {
   "cell_type": "code",
   "execution_count": 27,
   "id": "595f41c0-74a6-4db2-b4bc-3614e281c9ae",
   "metadata": {},
   "outputs": [],
   "source": [
    "import os\n",
    "import importlib\n",
    "\n",
    "# Import and reload in case of Jupyter cache issues\n",
    "import secret_key\n",
    "importlib.reload(secret_key)\n",
    "from secret_key import serpapi_key, GOOGLE_API_KEY\n",
    "\n",
    "from langchain_google_genai import ChatGoogleGenerativeAI\n",
    "from langchain.agents import AgentType, initialize_agent, load_tools\n",
    "\n",
    "# Optional: check if key is loading\n",
    "# print(\"Loaded SerpAPI Key:\", repr(serpapi_key))\n",
    "\n",
    "llm = ChatGoogleGenerativeAI(\n",
    "    model=\"gemini-1.5-flash\",\n",
    "    google_api_key=GOOGLE_API_KEY,\n",
    "    temperature=0.7\n",
    ")\n",
    "\n",
    "tools = load_tools(\n",
    "    [\"serpapi\", \"llm-math\"],\n",
    "    llm=llm,\n",
    "    serpapi_api_key=serpapi_key\n",
    ")\n",
    "\n",
    "agent = initialize_agent(\n",
    "    tools=tools,\n",
    "    llm=llm,\n",
    "    agent=AgentType.ZERO_SHOT_REACT_DESCRIPTION,\n",
    "    verbose=True\n",
    ")\n",
    "\n",
    "\n"
   ]
  },
  {
   "cell_type": "code",
   "execution_count": 9,
   "id": "2e003b6f-928c-4e2e-896d-6cb2ec9189d1",
   "metadata": {},
   "outputs": [
    {
     "name": "stderr",
     "output_type": "stream",
     "text": [
      "C:\\Users\\kunal\\AppData\\Local\\Temp\\ipykernel_17520\\2164540290.py:1: LangChainDeprecationWarning: The method `Chain.run` was deprecated in langchain 0.1.0 and will be removed in 1.0. Use :meth:`~invoke` instead.\n",
      "  response = agent.run(\"What was the GDP of US in 2022 plus 5?\")\n"
     ]
    },
    {
     "name": "stdout",
     "output_type": "stream",
     "text": [
      "\n",
      "\n",
      "\u001b[1m> Entering new AgentExecutor chain...\u001b[0m\n",
      "\u001b[32;1m\u001b[1;3mThought: I need to find the US GDP for 2022, then add 5 to it.  First I'll find the GDP using a search engine.\n",
      "\n",
      "Action: Search\n",
      "Action Input: \"US GDP 2022\"\u001b[0m\n",
      "Observation: \u001b[36;1m\u001b[1;3m['Current-dollar GDP increased 9.2 percent, or $2.15 trillion, in 2022 to a level of $25.46 trillion, compared with an increase of 10.7 percent, ...', 'U.S. GDP for 2022 was 26.007 trillion US dollars, a 9.82% increase from 2021. · U.S. GDP for 2021 was 23.681 trillion US dollars, a 10.9% increase from 2020.', 'GDP (current US$) - United States from The World Bank: Data. ... Virgin Islands (U.S.). 2022. 4,672.00. West Bank and Gaza. 2024. 13,711.10. Yemen ...', 'The Gross Domestic Product (GDP) in the United States was worth 29184.89 billion US dollars in 2024, according to official data from the World Bank.', 'A comprehensive measure of US economic activity. GDP measures the value of the final goods and services produced in the United States.', 'This pie chart shows the percentage of the total gross domestic product (GDP) by. Dataset Excel: F4_01_FinalDemandForGoods&ServicesByCategory_A.xlsx (91.42 KB).', 'GDP Growth Rate in the United States is expected to be 1.00 percent by the end of this quarter, according to Trading Economics global macro models and analysts ...', 'GDP Growth Rate in 2023 was 2.89%, representing a change of 619,200,000,000 US$ over 2022, when Real GDP was $21,443,400,000,000. GDP per Capita in the ...', 'View the annual rate of economic output, or the inflation-adjusted value of all new goods and services produced by labor and property located in the U.S..', 'The growth rate of real gross domestic product (GDP) is a key indicator of economic activity, but the official estimate is released with a delay.']\u001b[0m\n",
      "Thought:\u001b[32;1m\u001b[1;3mThought:The observation contains several different figures for the US GDP in 2022.  I'll choose one and proceed with the calculation.  I'll use the figure of 26.007 trillion USD.\n",
      "\n",
      "Action: Calculator\n",
      "Action Input: 26007000000000 + 5\u001b[0m\n",
      "Observation: \u001b[33;1m\u001b[1;3mAnswer: 26007000000005\u001b[0m\n",
      "Thought:\u001b[32;1m\u001b[1;3mThought: I now know the final answer.\n",
      "Final Answer: 26,007,000,000,005\u001b[0m\n",
      "\n",
      "\u001b[1m> Finished chain.\u001b[0m\n",
      "26,007,000,000,005\n"
     ]
    }
   ],
   "source": [
    "response = agent.run(\"What was the GDP of US in 2022 plus 5?\")\n",
    "print(response)"
   ]
  },
  {
   "cell_type": "code",
   "execution_count": 28,
   "id": "8bb948b1-348c-47b9-814d-d717f535b1c4",
   "metadata": {},
   "outputs": [
    {
     "name": "stdout",
     "output_type": "stream",
     "text": [
      "Defining \"top\" depends on the criteria used (research output, undergraduate teaching, specific programs, etc.). However, consistently ranking highly in various metrics in Ontario are:\n",
      "\n",
      "* **University of Toronto (U of T):**  Generally considered the top university in Ontario and often among the top in Canada and globally.  Strong across all disciplines.\n",
      "\n",
      "* **University of Waterloo:**  Excellent reputation for engineering, computer science, and mathematics.  Also known for its co-op programs.\n",
      "\n",
      "* **McMaster University:**  Known for its innovative problem-based learning approach, particularly strong in health sciences and engineering.\n",
      "\n",
      "* **Western University:**  Strong in business, social sciences, and health sciences.  Known for its vibrant student life.\n",
      "\n",
      "* **Queen's University:**  Excellent reputation, particularly in business (Ivey Business School), engineering, and arts and science. Known for its smaller class sizes and strong sense of community.\n",
      "\n",
      "\n",
      "Other excellent universities in Ontario worth considering depending on your specific interests include:\n",
      "\n",
      "* **University of Ottawa:**  Strong bilingual programs (English and French).\n",
      "\n",
      "* **York University:**  Large university with a wide range of programs.\n",
      "\n",
      "\n",
      "This is not an exhaustive list, and the \"best\" university will depend on your individual needs and preferences.  Consider factors like program specifics, campus culture, location, and overall student experience when making your decision.\n"
     ]
    }
   ],
   "source": [
    "chain = LLMChain(llm=llm,prompt=prompt_template_name)\n",
    "name = chain.run(\"Ontario\")\n",
    "print(name)"
   ]
  },
  {
   "cell_type": "code",
   "execution_count": 29,
   "id": "96d1e7ba-1267-43e2-9554-4df8dd0a45a2",
   "metadata": {},
   "outputs": [
    {
     "name": "stderr",
     "output_type": "stream",
     "text": [
      "C:\\Users\\kunal\\AppData\\Local\\Temp\\ipykernel_17520\\1009817347.py:3: LangChainDeprecationWarning: Please see the migration guide at: https://python.langchain.com/docs/versions/migrating_memory/\n",
      "  memory = ConversationBufferMemory()\n"
     ]
    },
    {
     "name": "stdout",
     "output_type": "stream",
     "text": [
      "The \"top\" university depends on your specific criteria (e.g., research focus, program ranking, student experience), but consistently highly ranked universities in Ontario include:\n",
      "\n",
      "* **University of Toronto (U of T):**  Generally considered the top university in Ontario and consistently ranks highly in global rankings. Strong across many disciplines, particularly in medicine, engineering, and law.\n",
      "\n",
      "* **University of Waterloo:** Renowned for its co-op programs, particularly in engineering, computer science, and mathematics.  A very strong focus on applied research and industry collaboration.\n",
      "\n",
      "* **McMaster University:** Known for its innovative problem-based learning approach in medicine and health sciences, but also strong in other areas like engineering and science.\n",
      "\n",
      "* **Western University:** Strong in business, health sciences, and social sciences.  A large university with a vibrant campus life.\n",
      "\n",
      "* **Queen's University:**  A smaller university with a strong reputation, particularly in business (the Ivey Business School), engineering, and arts. Known for its close-knit community.\n",
      "\n",
      "* **University of Ottawa:**  A bilingual university (English and French) with strengths in various fields, including health sciences, social sciences, and law.\n",
      "\n",
      "\n",
      "It's important to research specific programs within each university to find the best fit for your academic goals and preferences.  Rankings should be considered one factor among many.\n"
     ]
    }
   ],
   "source": [
    "from langchain.memory import ConversationBufferMemory\n",
    "\n",
    "memory = ConversationBufferMemory()\n",
    "\n",
    "chain = LLMChain(llm=llm, prompt=prompt_template_name, memory=memory)\n",
    "name = chain.run(\"Ontario\")\n",
    "print(name)"
   ]
  },
  {
   "cell_type": "code",
   "execution_count": 30,
   "id": "c5d9598f-f1b4-4cf4-81b8-c83305a73d68",
   "metadata": {},
   "outputs": [
    {
     "name": "stdout",
     "output_type": "stream",
     "text": [
      "The top universities in Alberta, consistently ranking highly in national and international rankings, are:\n",
      "\n",
      "* **University of Alberta (U of A):** This is generally considered the top university in Alberta, with a strong reputation across various disciplines and a large, comprehensive program offering.\n",
      "\n",
      "* **University of Calgary (U of C):**  A strong competitor to the U of A, the University of Calgary excels in certain areas like energy research, medicine, and business.  It also has a significant research output.\n",
      "\n",
      "While these two are clearly the top contenders, it's important to note that the \"best\" university depends on individual needs and preferences.  Factors like specific program strength, research opportunities, campus culture, and location all play a significant role.  Other universities in Alberta offer excellent programs in specific niches but don't usually rank as highly overall.\n"
     ]
    }
   ],
   "source": [
    "name = chain.run(\"Alberta\")\n",
    "print(name)"
   ]
  },
  {
   "cell_type": "code",
   "execution_count": 32,
   "id": "002bb7ce-200f-4b99-99ee-0bcc6450d146",
   "metadata": {},
   "outputs": [
    {
     "name": "stdout",
     "output_type": "stream",
     "text": [
      "Human: Ontario\n",
      "AI: The \"top\" university depends on your specific criteria (e.g., research focus, program ranking, student experience), but consistently highly ranked universities in Ontario include:\n",
      "\n",
      "* **University of Toronto (U of T):**  Generally considered the top university in Ontario and consistently ranks highly in global rankings. Strong across many disciplines, particularly in medicine, engineering, and law.\n",
      "\n",
      "* **University of Waterloo:** Renowned for its co-op programs, particularly in engineering, computer science, and mathematics.  A very strong focus on applied research and industry collaboration.\n",
      "\n",
      "* **McMaster University:** Known for its innovative problem-based learning approach in medicine and health sciences, but also strong in other areas like engineering and science.\n",
      "\n",
      "* **Western University:** Strong in business, health sciences, and social sciences.  A large university with a vibrant campus life.\n",
      "\n",
      "* **Queen's University:**  A smaller university with a strong reputation, particularly in business (the Ivey Business School), engineering, and arts. Known for its close-knit community.\n",
      "\n",
      "* **University of Ottawa:**  A bilingual university (English and French) with strengths in various fields, including health sciences, social sciences, and law.\n",
      "\n",
      "\n",
      "It's important to research specific programs within each university to find the best fit for your academic goals and preferences.  Rankings should be considered one factor among many.\n",
      "Human: Alberta\n",
      "AI: The top universities in Alberta, consistently ranking highly in national and international rankings, are:\n",
      "\n",
      "* **University of Alberta (U of A):** This is generally considered the top university in Alberta, with a strong reputation across various disciplines and a large, comprehensive program offering.\n",
      "\n",
      "* **University of Calgary (U of C):**  A strong competitor to the U of A, the University of Calgary excels in certain areas like energy research, medicine, and business.  It also has a significant research output.\n",
      "\n",
      "While these two are clearly the top contenders, it's important to note that the \"best\" university depends on individual needs and preferences.  Factors like specific program strength, research opportunities, campus culture, and location all play a significant role.  Other universities in Alberta offer excellent programs in specific niches but don't usually rank as highly overall.\n"
     ]
    }
   ],
   "source": [
    "print(chain.memory.buffer)"
   ]
  },
  {
   "cell_type": "code",
   "execution_count": null,
   "id": "976e0205-9938-45d0-be3e-a27652d9fb19",
   "metadata": {},
   "outputs": [],
   "source": []
  }
 ],
 "metadata": {
  "kernelspec": {
   "display_name": "Python 3 (ipykernel)",
   "language": "python",
   "name": "python3"
  },
  "language_info": {
   "codemirror_mode": {
    "name": "ipython",
    "version": 3
   },
   "file_extension": ".py",
   "mimetype": "text/x-python",
   "name": "python",
   "nbconvert_exporter": "python",
   "pygments_lexer": "ipython3",
   "version": "3.13.5"
  }
 },
 "nbformat": 4,
 "nbformat_minor": 5
}
